{
  "cells": [
    {
      "cell_type": "code",
      "execution_count": 3,
      "metadata": {
        "colab": {
          "base_uri": "https://localhost:8080/"
        },
        "id": "EtbdG7nR49HX",
        "outputId": "35b07160-765a-4511-efe0-01c54be5ace1"
      },
      "outputs": [
        {
          "name": "stderr",
          "output_type": "stream",
          "text": [
            "[nltk_data] Downloading package stopwords to /root/nltk_data...\n",
            "[nltk_data]   Package stopwords is already up-to-date!\n",
            "[nltk_data] Downloading package punkt to /root/nltk_data...\n",
            "[nltk_data]   Package punkt is already up-to-date!\n"
          ]
        },
        {
          "name": "stdout",
          "output_type": "stream",
          "text": [
            "   Unnamed: 0                                               text       id  \\\n",
            "0           0  disclaimer  i think obama should nominate some...  d028c5d   \n",
            "2           2  either way the process will be dragged out unt...  d026od6   \n",
            "3           3  republicans have always battled with severe ca...  d026wk3   \n",
            "4           4  politics were so different back then people on...  d02a3k3   \n",
            "5           5  equally ridiculous  here s a 1970 law review a...  d025wad   \n",
            "\n",
            "  subreddit  meta          time              author   ups  downs  \\\n",
            "0  politics  news  1.455651e+09            degausse   3.0    0.0   \n",
            "2  politics  news  1.455648e+09         cyberspyder   5.0    0.0   \n",
            "3  politics  news  1.455649e+09               jabb0  15.0    0.0   \n",
            "4  politics  news  1.455653e+09  Hypertension123456   2.0    0.0   \n",
            "5  politics  news  1.455647e+09        trash_reason  26.0    0.0   \n",
            "\n",
            "   authorlinkkarma  authorkarma  authorisgold  \n",
            "0                1         1941           0.0  \n",
            "2             1300         6462           1.0  \n",
            "3            44981       141501           0.0  \n",
            "4               46        42036           0.0  \n",
            "5             5613         1361           0.0  \n",
            "Index(['Unnamed: 0', 'text', 'id', 'subreddit', 'meta', 'time', 'author',\n",
            "       'ups', 'downs', 'authorlinkkarma', 'authorkarma', 'authorisgold'],\n",
            "      dtype='object')\n",
            "                                                    text  \\\n",
            "0      disclaimer i think obama should nominate someo...   \n",
            "2      either way the process will be dragged out unt...   \n",
            "3      republicans have always battled with severe ca...   \n",
            "4      politics were so different back then people on...   \n",
            "5      equally ridiculous here s a 1970 law review ar...   \n",
            "...                                                  ...   \n",
            "94080                                           deleted    \n",
            "94081                                           removed    \n",
            "94083  yeah it s a form of a flat tax every single fl...   \n",
            "94084  i am terrified this man actually stands a chan...   \n",
            "94085   the tax policy center is a joint project of t...   \n",
            "\n",
            "                                                filtered  \\\n",
            "0      [disclaimer, think, obama, nominate, someone, ...   \n",
            "2      [either, way, process, dragged, elections, gop...   \n",
            "3      [republicans, always, battled, severe, cases, ...   \n",
            "4      [politics, different, back, people, sides, lea...   \n",
            "5      [equally, ridiculous, 1970, law, review, artic...   \n",
            "...                                                  ...   \n",
            "94080                                          [deleted]   \n",
            "94081                                          [removed]   \n",
            "94083  [yeah, form, flat, tax, every, single, flat, tax]   \n",
            "94084  [terrified, man, actually, stands, chance, get...   \n",
            "94085  [tax, policy, center, joint, project, centrist...   \n",
            "\n",
            "                                                 stemmed  \n",
            "0      [disclaim, think, obama, nomin, someon, senat,...  \n",
            "2      [either, way, process, drag, elect, gop, vote,...  \n",
            "3      [republican, alway, battl, sever, case, select...  \n",
            "4      [polit, differ, back, peopl, side, least, pret...  \n",
            "5      [equal, ridicul, 1970, law, review, articl, mc...  \n",
            "...                                                  ...  \n",
            "94080                                            [delet]  \n",
            "94081                                            [remov]  \n",
            "94083   [yeah, form, flat, tax, everi, singl, flat, tax]  \n",
            "94084   [terrifi, man, actual, stand, chanc, get, elect]  \n",
            "94085  [tax, polici, center, joint, project, centrist...  \n",
            "\n",
            "[86852 rows x 3 columns]\n"
          ]
        }
      ],
      "source": [
        "import nltk\n",
        "nltk.download('stopwords')\n",
        "nltk.download('punkt')\n",
        "import pandas as pd\n",
        "from nltk.corpus import stopwords\n",
        "from nltk.tokenize import word_tokenize\n",
        "from nltk.stem import PorterStemmer\n",
        "import re\n",
        "import random\n",
        "\n",
        "# File path\n",
        "file_path = '/content/news_politics.csv'\n",
        "\n",
        "# Import the CSV file\n",
        "df_np = pd.read_csv(file_path)\n",
        "#Drop all columns with NA values for 'text' column\n",
        "df_np.columns = ['Unnamed: 0','text', 'id', 'subreddit', 'meta', 'time', 'author',\n",
        "              'ups', 'downs', 'authorlinkkarma', 'authorkarma', 'authorisgold']\n",
        "\n",
        "df_np = df_np.dropna(subset=['text'])\n",
        "\n",
        "#reserve the \"no processed\" dataframe\n",
        "df = df_np\n",
        "\n",
        "\n",
        "# Display the first few rows of the dataframe\n",
        "print(df.head())\n",
        "print(df.columns)\n",
        "\n",
        "\n",
        "\n",
        "df['text'] = df['text'].apply(lambda x: x.lower())  # Lowercase\n",
        "df['text'] = df['text'].apply(lambda x: re.sub(r'\\W+', ' ', x))  # Remove special characters\n",
        "\n",
        "\n",
        "df['tokens'] = df['text'].apply(word_tokenize)\n",
        "\n",
        "# Remove stop words\n",
        "stop_words = set(stopwords.words('english'))\n",
        "df['filtered'] = df['tokens'].apply(lambda x: [word for word in x if word not in stop_words])\n",
        "\n",
        "stemmer = PorterStemmer()\n",
        "df['stemmed'] = df['filtered'].apply(lambda x: [stemmer.stem(word) for word in x])\n",
        "\n",
        "# Displaying processed data\n",
        "print(df[['text', 'filtered', 'stemmed']])\n",
        "\n",
        "\n"
      ]
    },
    {
      "cell_type": "code",
      "execution_count": 35,
      "metadata": {
        "colab": {
          "base_uri": "https://localhost:8080/",
          "height": 391
        },
        "id": "_Vw9Hv-NB0cS",
        "outputId": "e216637d-eba9-4ee0-fa4d-85aa31a6e9e4"
      },
      "outputs": [
        {
          "ename": "KeyboardInterrupt",
          "evalue": "ignored",
          "output_type": "error",
          "traceback": [
            "\u001b[0;31m---------------------------------------------------------------------------\u001b[0m",
            "\u001b[0;31mKeyboardInterrupt\u001b[0m                         Traceback (most recent call last)",
            "\u001b[0;32m<ipython-input-35-e3b58faca344>\u001b[0m in \u001b[0;36m<cell line: 14>\u001b[0;34m()\u001b[0m\n\u001b[1;32m     12\u001b[0m \u001b[0;32mfrom\u001b[0m \u001b[0msklearn\u001b[0m\u001b[0;34m.\u001b[0m\u001b[0mmetrics\u001b[0m \u001b[0;32mimport\u001b[0m \u001b[0mclassification_report\u001b[0m\u001b[0;34m\u001b[0m\u001b[0;34m\u001b[0m\u001b[0m\n\u001b[1;32m     13\u001b[0m \u001b[0;34m\u001b[0m\u001b[0m\n\u001b[0;32m---> 14\u001b[0;31m \u001b[0mdf\u001b[0m\u001b[0;34m[\u001b[0m\u001b[0;34m'ups_category'\u001b[0m\u001b[0;34m]\u001b[0m \u001b[0;34m=\u001b[0m \u001b[0;34m[\u001b[0m\u001b[0;34m'high'\u001b[0m \u001b[0;32mif\u001b[0m \u001b[0mx\u001b[0m \u001b[0;34m>=\u001b[0m \u001b[0mdf\u001b[0m\u001b[0;34m[\u001b[0m\u001b[0;34m'ups'\u001b[0m\u001b[0;34m]\u001b[0m\u001b[0;34m.\u001b[0m\u001b[0mquantile\u001b[0m\u001b[0;34m(\u001b[0m\u001b[0;36m0.9\u001b[0m\u001b[0;34m)\u001b[0m \u001b[0;32melse\u001b[0m \u001b[0;34m'none'\u001b[0m \u001b[0;32mif\u001b[0m \u001b[0mx\u001b[0m \u001b[0;34m==\u001b[0m \u001b[0;36m0\u001b[0m \u001b[0;32melse\u001b[0m \u001b[0;34m'ignore'\u001b[0m \u001b[0;32mfor\u001b[0m \u001b[0mx\u001b[0m \u001b[0;32min\u001b[0m \u001b[0mdf\u001b[0m\u001b[0;34m[\u001b[0m\u001b[0;34m'ups'\u001b[0m\u001b[0;34m]\u001b[0m\u001b[0;34m]\u001b[0m\u001b[0;34m\u001b[0m\u001b[0;34m\u001b[0m\u001b[0m\n\u001b[0m\u001b[1;32m     15\u001b[0m \u001b[0;34m\u001b[0m\u001b[0m\n\u001b[1;32m     16\u001b[0m \u001b[0;31m# Filter out the posts that are not in the 'high' or 'none' categories\u001b[0m\u001b[0;34m\u001b[0m\u001b[0;34m\u001b[0m\u001b[0m\n",
            "\u001b[0;32m<ipython-input-35-e3b58faca344>\u001b[0m in \u001b[0;36m<listcomp>\u001b[0;34m(.0)\u001b[0m\n\u001b[1;32m     12\u001b[0m \u001b[0;32mfrom\u001b[0m \u001b[0msklearn\u001b[0m\u001b[0;34m.\u001b[0m\u001b[0mmetrics\u001b[0m \u001b[0;32mimport\u001b[0m \u001b[0mclassification_report\u001b[0m\u001b[0;34m\u001b[0m\u001b[0;34m\u001b[0m\u001b[0m\n\u001b[1;32m     13\u001b[0m \u001b[0;34m\u001b[0m\u001b[0m\n\u001b[0;32m---> 14\u001b[0;31m \u001b[0mdf\u001b[0m\u001b[0;34m[\u001b[0m\u001b[0;34m'ups_category'\u001b[0m\u001b[0;34m]\u001b[0m \u001b[0;34m=\u001b[0m \u001b[0;34m[\u001b[0m\u001b[0;34m'high'\u001b[0m \u001b[0;32mif\u001b[0m \u001b[0mx\u001b[0m \u001b[0;34m>=\u001b[0m \u001b[0mdf\u001b[0m\u001b[0;34m[\u001b[0m\u001b[0;34m'ups'\u001b[0m\u001b[0;34m]\u001b[0m\u001b[0;34m.\u001b[0m\u001b[0mquantile\u001b[0m\u001b[0;34m(\u001b[0m\u001b[0;36m0.9\u001b[0m\u001b[0;34m)\u001b[0m \u001b[0;32melse\u001b[0m \u001b[0;34m'none'\u001b[0m \u001b[0;32mif\u001b[0m \u001b[0mx\u001b[0m \u001b[0;34m==\u001b[0m \u001b[0;36m0\u001b[0m \u001b[0;32melse\u001b[0m \u001b[0;34m'ignore'\u001b[0m \u001b[0;32mfor\u001b[0m \u001b[0mx\u001b[0m \u001b[0;32min\u001b[0m \u001b[0mdf\u001b[0m\u001b[0;34m[\u001b[0m\u001b[0;34m'ups'\u001b[0m\u001b[0;34m]\u001b[0m\u001b[0;34m]\u001b[0m\u001b[0;34m\u001b[0m\u001b[0;34m\u001b[0m\u001b[0m\n\u001b[0m\u001b[1;32m     15\u001b[0m \u001b[0;34m\u001b[0m\u001b[0m\n\u001b[1;32m     16\u001b[0m \u001b[0;31m# Filter out the posts that are not in the 'high' or 'none' categories\u001b[0m\u001b[0;34m\u001b[0m\u001b[0;34m\u001b[0m\u001b[0m\n",
            "\u001b[0;32m/usr/local/lib/python3.10/dist-packages/pandas/core/series.py\u001b[0m in \u001b[0;36mquantile\u001b[0;34m(self, q, interpolation)\u001b[0m\n\u001b[1;32m   2681\u001b[0m         \u001b[0mdf\u001b[0m \u001b[0;34m=\u001b[0m \u001b[0mself\u001b[0m\u001b[0;34m.\u001b[0m\u001b[0mto_frame\u001b[0m\u001b[0;34m(\u001b[0m\u001b[0;34m)\u001b[0m\u001b[0;34m\u001b[0m\u001b[0;34m\u001b[0m\u001b[0m\n\u001b[1;32m   2682\u001b[0m \u001b[0;34m\u001b[0m\u001b[0m\n\u001b[0;32m-> 2683\u001b[0;31m         \u001b[0mresult\u001b[0m \u001b[0;34m=\u001b[0m \u001b[0mdf\u001b[0m\u001b[0;34m.\u001b[0m\u001b[0mquantile\u001b[0m\u001b[0;34m(\u001b[0m\u001b[0mq\u001b[0m\u001b[0;34m=\u001b[0m\u001b[0mq\u001b[0m\u001b[0;34m,\u001b[0m \u001b[0minterpolation\u001b[0m\u001b[0;34m=\u001b[0m\u001b[0minterpolation\u001b[0m\u001b[0;34m,\u001b[0m \u001b[0mnumeric_only\u001b[0m\u001b[0;34m=\u001b[0m\u001b[0;32mFalse\u001b[0m\u001b[0;34m)\u001b[0m\u001b[0;34m\u001b[0m\u001b[0;34m\u001b[0m\u001b[0m\n\u001b[0m\u001b[1;32m   2684\u001b[0m         \u001b[0;32mif\u001b[0m \u001b[0mresult\u001b[0m\u001b[0;34m.\u001b[0m\u001b[0mndim\u001b[0m \u001b[0;34m==\u001b[0m \u001b[0;36m2\u001b[0m\u001b[0;34m:\u001b[0m\u001b[0;34m\u001b[0m\u001b[0;34m\u001b[0m\u001b[0m\n\u001b[1;32m   2685\u001b[0m             \u001b[0mresult\u001b[0m \u001b[0;34m=\u001b[0m \u001b[0mresult\u001b[0m\u001b[0;34m.\u001b[0m\u001b[0miloc\u001b[0m\u001b[0;34m[\u001b[0m\u001b[0;34m:\u001b[0m\u001b[0;34m,\u001b[0m \u001b[0;36m0\u001b[0m\u001b[0;34m]\u001b[0m\u001b[0;34m\u001b[0m\u001b[0;34m\u001b[0m\u001b[0m\n",
            "\u001b[0;32m/usr/local/lib/python3.10/dist-packages/pandas/core/frame.py\u001b[0m in \u001b[0;36mquantile\u001b[0;34m(self, q, axis, numeric_only, interpolation, method)\u001b[0m\n\u001b[1;32m  11272\u001b[0m             \u001b[0;31m# ExtensionArray, ndarray[Any, Any]], Index, Series], Sequence[float]]\";\u001b[0m\u001b[0;34m\u001b[0m\u001b[0;34m\u001b[0m\u001b[0m\n\u001b[1;32m  11273\u001b[0m             \u001b[0;31m# expected \"float\"\u001b[0m\u001b[0;34m\u001b[0m\u001b[0;34m\u001b[0m\u001b[0m\n\u001b[0;32m> 11274\u001b[0;31m             res_df = self.quantile(  # type: ignore[call-overload]\n\u001b[0m\u001b[1;32m  11275\u001b[0m                 \u001b[0;34m[\u001b[0m\u001b[0mq\u001b[0m\u001b[0;34m]\u001b[0m\u001b[0;34m,\u001b[0m\u001b[0;34m\u001b[0m\u001b[0;34m\u001b[0m\u001b[0m\n\u001b[1;32m  11276\u001b[0m                 \u001b[0maxis\u001b[0m\u001b[0;34m=\u001b[0m\u001b[0maxis\u001b[0m\u001b[0;34m,\u001b[0m\u001b[0;34m\u001b[0m\u001b[0;34m\u001b[0m\u001b[0m\n",
            "\u001b[0;32m/usr/local/lib/python3.10/dist-packages/pandas/core/frame.py\u001b[0m in \u001b[0;36mquantile\u001b[0;34m(self, q, axis, numeric_only, interpolation, method)\u001b[0m\n\u001b[1;32m  11319\u001b[0m             \u001b[0;31m# error: Argument \"qs\" to \"quantile\" of \"BlockManager\" has incompatible type\u001b[0m\u001b[0;34m\u001b[0m\u001b[0;34m\u001b[0m\u001b[0m\n\u001b[1;32m  11320\u001b[0m             \u001b[0;31m# \"Index\"; expected \"Float64Index\"\u001b[0m\u001b[0;34m\u001b[0m\u001b[0;34m\u001b[0m\u001b[0m\n\u001b[0;32m> 11321\u001b[0;31m             res = data._mgr.quantile(\n\u001b[0m\u001b[1;32m  11322\u001b[0m                 \u001b[0mqs\u001b[0m\u001b[0;34m=\u001b[0m\u001b[0mq\u001b[0m\u001b[0;34m,\u001b[0m \u001b[0maxis\u001b[0m\u001b[0;34m=\u001b[0m\u001b[0;36m1\u001b[0m\u001b[0;34m,\u001b[0m \u001b[0minterpolation\u001b[0m\u001b[0;34m=\u001b[0m\u001b[0minterpolation\u001b[0m  \u001b[0;31m# type: ignore[arg-type]\u001b[0m\u001b[0;34m\u001b[0m\u001b[0;34m\u001b[0m\u001b[0m\n\u001b[1;32m  11323\u001b[0m             )\n",
            "\u001b[0;32m/usr/local/lib/python3.10/dist-packages/pandas/core/internals/managers.py\u001b[0m in \u001b[0;36mquantile\u001b[0;34m(self, qs, axis, interpolation)\u001b[0m\n\u001b[1;32m   1629\u001b[0m         \u001b[0mnew_axes\u001b[0m\u001b[0;34m[\u001b[0m\u001b[0;36m1\u001b[0m\u001b[0;34m]\u001b[0m \u001b[0;34m=\u001b[0m \u001b[0mFloat64Index\u001b[0m\u001b[0;34m(\u001b[0m\u001b[0mqs\u001b[0m\u001b[0;34m)\u001b[0m\u001b[0;34m\u001b[0m\u001b[0;34m\u001b[0m\u001b[0m\n\u001b[1;32m   1630\u001b[0m \u001b[0;34m\u001b[0m\u001b[0m\n\u001b[0;32m-> 1631\u001b[0;31m         blocks = [\n\u001b[0m\u001b[1;32m   1632\u001b[0m             \u001b[0mblk\u001b[0m\u001b[0;34m.\u001b[0m\u001b[0mquantile\u001b[0m\u001b[0;34m(\u001b[0m\u001b[0maxis\u001b[0m\u001b[0;34m=\u001b[0m\u001b[0maxis\u001b[0m\u001b[0;34m,\u001b[0m \u001b[0mqs\u001b[0m\u001b[0;34m=\u001b[0m\u001b[0mqs\u001b[0m\u001b[0;34m,\u001b[0m \u001b[0minterpolation\u001b[0m\u001b[0;34m=\u001b[0m\u001b[0minterpolation\u001b[0m\u001b[0;34m)\u001b[0m\u001b[0;34m\u001b[0m\u001b[0;34m\u001b[0m\u001b[0m\n\u001b[1;32m   1633\u001b[0m             \u001b[0;32mfor\u001b[0m \u001b[0mblk\u001b[0m \u001b[0;32min\u001b[0m \u001b[0mself\u001b[0m\u001b[0;34m.\u001b[0m\u001b[0mblocks\u001b[0m\u001b[0;34m\u001b[0m\u001b[0;34m\u001b[0m\u001b[0m\n",
            "\u001b[0;32m/usr/local/lib/python3.10/dist-packages/pandas/core/internals/managers.py\u001b[0m in \u001b[0;36m<listcomp>\u001b[0;34m(.0)\u001b[0m\n\u001b[1;32m   1630\u001b[0m \u001b[0;34m\u001b[0m\u001b[0m\n\u001b[1;32m   1631\u001b[0m         blocks = [\n\u001b[0;32m-> 1632\u001b[0;31m             \u001b[0mblk\u001b[0m\u001b[0;34m.\u001b[0m\u001b[0mquantile\u001b[0m\u001b[0;34m(\u001b[0m\u001b[0maxis\u001b[0m\u001b[0;34m=\u001b[0m\u001b[0maxis\u001b[0m\u001b[0;34m,\u001b[0m \u001b[0mqs\u001b[0m\u001b[0;34m=\u001b[0m\u001b[0mqs\u001b[0m\u001b[0;34m,\u001b[0m \u001b[0minterpolation\u001b[0m\u001b[0;34m=\u001b[0m\u001b[0minterpolation\u001b[0m\u001b[0;34m)\u001b[0m\u001b[0;34m\u001b[0m\u001b[0;34m\u001b[0m\u001b[0m\n\u001b[0m\u001b[1;32m   1633\u001b[0m             \u001b[0;32mfor\u001b[0m \u001b[0mblk\u001b[0m \u001b[0;32min\u001b[0m \u001b[0mself\u001b[0m\u001b[0;34m.\u001b[0m\u001b[0mblocks\u001b[0m\u001b[0;34m\u001b[0m\u001b[0;34m\u001b[0m\u001b[0m\n\u001b[1;32m   1634\u001b[0m         ]\n",
            "\u001b[0;32m/usr/local/lib/python3.10/dist-packages/pandas/core/internals/blocks.py\u001b[0m in \u001b[0;36mquantile\u001b[0;34m(self, qs, interpolation, axis)\u001b[0m\n\u001b[1;32m   1333\u001b[0m         \u001b[0;32massert\u001b[0m \u001b[0mis_list_like\u001b[0m\u001b[0;34m(\u001b[0m\u001b[0mqs\u001b[0m\u001b[0;34m)\u001b[0m  \u001b[0;31m# caller is responsible for this\u001b[0m\u001b[0;34m\u001b[0m\u001b[0;34m\u001b[0m\u001b[0m\n\u001b[1;32m   1334\u001b[0m \u001b[0;34m\u001b[0m\u001b[0m\n\u001b[0;32m-> 1335\u001b[0;31m         \u001b[0mresult\u001b[0m \u001b[0;34m=\u001b[0m \u001b[0mquantile_compat\u001b[0m\u001b[0;34m(\u001b[0m\u001b[0mself\u001b[0m\u001b[0;34m.\u001b[0m\u001b[0mvalues\u001b[0m\u001b[0;34m,\u001b[0m \u001b[0mnp\u001b[0m\u001b[0;34m.\u001b[0m\u001b[0masarray\u001b[0m\u001b[0;34m(\u001b[0m\u001b[0mqs\u001b[0m\u001b[0;34m.\u001b[0m\u001b[0m_values\u001b[0m\u001b[0;34m)\u001b[0m\u001b[0;34m,\u001b[0m \u001b[0minterpolation\u001b[0m\u001b[0;34m)\u001b[0m\u001b[0;34m\u001b[0m\u001b[0;34m\u001b[0m\u001b[0m\n\u001b[0m\u001b[1;32m   1336\u001b[0m         \u001b[0;31m# ensure_block_shape needed for cases where we start with EA and result\u001b[0m\u001b[0;34m\u001b[0m\u001b[0;34m\u001b[0m\u001b[0m\n\u001b[1;32m   1337\u001b[0m         \u001b[0;31m#  is ndarray, e.g. IntegerArray, SparseArray\u001b[0m\u001b[0;34m\u001b[0m\u001b[0;34m\u001b[0m\u001b[0m\n",
            "\u001b[0;32m/usr/local/lib/python3.10/dist-packages/pandas/core/array_algos/quantile.py\u001b[0m in \u001b[0;36mquantile_compat\u001b[0;34m(values, qs, interpolation)\u001b[0m\n\u001b[1;32m     35\u001b[0m         \u001b[0mfill_value\u001b[0m \u001b[0;34m=\u001b[0m \u001b[0mna_value_for_dtype\u001b[0m\u001b[0;34m(\u001b[0m\u001b[0mvalues\u001b[0m\u001b[0;34m.\u001b[0m\u001b[0mdtype\u001b[0m\u001b[0;34m,\u001b[0m \u001b[0mcompat\u001b[0m\u001b[0;34m=\u001b[0m\u001b[0;32mFalse\u001b[0m\u001b[0;34m)\u001b[0m\u001b[0;34m\u001b[0m\u001b[0;34m\u001b[0m\u001b[0m\n\u001b[1;32m     36\u001b[0m         \u001b[0mmask\u001b[0m \u001b[0;34m=\u001b[0m \u001b[0misna\u001b[0m\u001b[0;34m(\u001b[0m\u001b[0mvalues\u001b[0m\u001b[0;34m)\u001b[0m\u001b[0;34m\u001b[0m\u001b[0;34m\u001b[0m\u001b[0m\n\u001b[0;32m---> 37\u001b[0;31m         \u001b[0;32mreturn\u001b[0m \u001b[0mquantile_with_mask\u001b[0m\u001b[0;34m(\u001b[0m\u001b[0mvalues\u001b[0m\u001b[0;34m,\u001b[0m \u001b[0mmask\u001b[0m\u001b[0;34m,\u001b[0m \u001b[0mfill_value\u001b[0m\u001b[0;34m,\u001b[0m \u001b[0mqs\u001b[0m\u001b[0;34m,\u001b[0m \u001b[0minterpolation\u001b[0m\u001b[0;34m)\u001b[0m\u001b[0;34m\u001b[0m\u001b[0;34m\u001b[0m\u001b[0m\n\u001b[0m\u001b[1;32m     38\u001b[0m     \u001b[0;32melse\u001b[0m\u001b[0;34m:\u001b[0m\u001b[0;34m\u001b[0m\u001b[0;34m\u001b[0m\u001b[0m\n\u001b[1;32m     39\u001b[0m         \u001b[0;32mreturn\u001b[0m \u001b[0mvalues\u001b[0m\u001b[0;34m.\u001b[0m\u001b[0m_quantile\u001b[0m\u001b[0;34m(\u001b[0m\u001b[0mqs\u001b[0m\u001b[0;34m,\u001b[0m \u001b[0minterpolation\u001b[0m\u001b[0;34m)\u001b[0m\u001b[0;34m\u001b[0m\u001b[0;34m\u001b[0m\u001b[0m\n",
            "\u001b[0;32m/usr/local/lib/python3.10/dist-packages/pandas/core/array_algos/quantile.py\u001b[0m in \u001b[0;36mquantile_with_mask\u001b[0;34m(values, mask, fill_value, qs, interpolation)\u001b[0m\n\u001b[1;32m     93\u001b[0m         \u001b[0mresult\u001b[0m \u001b[0;34m=\u001b[0m \u001b[0mnp\u001b[0m\u001b[0;34m.\u001b[0m\u001b[0mrepeat\u001b[0m\u001b[0;34m(\u001b[0m\u001b[0mflat\u001b[0m\u001b[0;34m,\u001b[0m \u001b[0mlen\u001b[0m\u001b[0;34m(\u001b[0m\u001b[0mvalues\u001b[0m\u001b[0;34m)\u001b[0m\u001b[0;34m)\u001b[0m\u001b[0;34m.\u001b[0m\u001b[0mreshape\u001b[0m\u001b[0;34m(\u001b[0m\u001b[0mlen\u001b[0m\u001b[0;34m(\u001b[0m\u001b[0mvalues\u001b[0m\u001b[0;34m)\u001b[0m\u001b[0;34m,\u001b[0m \u001b[0mlen\u001b[0m\u001b[0;34m(\u001b[0m\u001b[0mqs\u001b[0m\u001b[0;34m)\u001b[0m\u001b[0;34m)\u001b[0m\u001b[0;34m\u001b[0m\u001b[0;34m\u001b[0m\u001b[0m\n\u001b[1;32m     94\u001b[0m     \u001b[0;32melse\u001b[0m\u001b[0;34m:\u001b[0m\u001b[0;34m\u001b[0m\u001b[0;34m\u001b[0m\u001b[0m\n\u001b[0;32m---> 95\u001b[0;31m         result = _nanpercentile(\n\u001b[0m\u001b[1;32m     96\u001b[0m             \u001b[0mvalues\u001b[0m\u001b[0;34m,\u001b[0m\u001b[0;34m\u001b[0m\u001b[0;34m\u001b[0m\u001b[0m\n\u001b[1;32m     97\u001b[0m             \u001b[0mqs\u001b[0m \u001b[0;34m*\u001b[0m \u001b[0;36m100.0\u001b[0m\u001b[0;34m,\u001b[0m\u001b[0;34m\u001b[0m\u001b[0;34m\u001b[0m\u001b[0m\n",
            "\u001b[0;32m/usr/local/lib/python3.10/dist-packages/pandas/core/array_algos/quantile.py\u001b[0m in \u001b[0;36m_nanpercentile\u001b[0;34m(values, qs, na_value, mask, interpolation)\u001b[0m\n\u001b[1;32m    214\u001b[0m         \u001b[0;32mreturn\u001b[0m \u001b[0mresult\u001b[0m\u001b[0;34m\u001b[0m\u001b[0;34m\u001b[0m\u001b[0m\n\u001b[1;32m    215\u001b[0m     \u001b[0;32melse\u001b[0m\u001b[0;34m:\u001b[0m\u001b[0;34m\u001b[0m\u001b[0;34m\u001b[0m\u001b[0m\n\u001b[0;32m--> 216\u001b[0;31m         return np.percentile(\n\u001b[0m\u001b[1;32m    217\u001b[0m             \u001b[0mvalues\u001b[0m\u001b[0;34m,\u001b[0m\u001b[0;34m\u001b[0m\u001b[0;34m\u001b[0m\u001b[0m\n\u001b[1;32m    218\u001b[0m             \u001b[0mqs\u001b[0m\u001b[0;34m,\u001b[0m\u001b[0;34m\u001b[0m\u001b[0;34m\u001b[0m\u001b[0m\n",
            "\u001b[0;32m/usr/local/lib/python3.10/dist-packages/numpy/core/overrides.py\u001b[0m in \u001b[0;36mpercentile\u001b[0;34m(*args, **kwargs)\u001b[0m\n",
            "\u001b[0;32m/usr/local/lib/python3.10/dist-packages/numpy/lib/function_base.py\u001b[0m in \u001b[0;36mpercentile\u001b[0;34m(a, q, axis, out, overwrite_input, method, keepdims, interpolation)\u001b[0m\n\u001b[1;32m   4164\u001b[0m     \u001b[0;32mif\u001b[0m \u001b[0;32mnot\u001b[0m \u001b[0m_quantile_is_valid\u001b[0m\u001b[0;34m(\u001b[0m\u001b[0mq\u001b[0m\u001b[0;34m)\u001b[0m\u001b[0;34m:\u001b[0m\u001b[0;34m\u001b[0m\u001b[0;34m\u001b[0m\u001b[0m\n\u001b[1;32m   4165\u001b[0m         \u001b[0;32mraise\u001b[0m \u001b[0mValueError\u001b[0m\u001b[0;34m(\u001b[0m\u001b[0;34m\"Percentiles must be in the range [0, 100]\"\u001b[0m\u001b[0;34m)\u001b[0m\u001b[0;34m\u001b[0m\u001b[0;34m\u001b[0m\u001b[0m\n\u001b[0;32m-> 4166\u001b[0;31m     return _quantile_unchecked(\n\u001b[0m\u001b[1;32m   4167\u001b[0m         a, q, axis, out, overwrite_input, method, keepdims)\n\u001b[1;32m   4168\u001b[0m \u001b[0;34m\u001b[0m\u001b[0m\n",
            "\u001b[0;32m/usr/local/lib/python3.10/dist-packages/numpy/lib/function_base.py\u001b[0m in \u001b[0;36m_quantile_unchecked\u001b[0;34m(a, q, axis, out, overwrite_input, method, keepdims)\u001b[0m\n\u001b[1;32m   4422\u001b[0m                         keepdims=False):\n\u001b[1;32m   4423\u001b[0m     \u001b[0;34m\"\"\"Assumes that q is in [0, 1], and is an ndarray\"\"\"\u001b[0m\u001b[0;34m\u001b[0m\u001b[0;34m\u001b[0m\u001b[0m\n\u001b[0;32m-> 4424\u001b[0;31m     r, k = _ureduce(a,\n\u001b[0m\u001b[1;32m   4425\u001b[0m                     \u001b[0mfunc\u001b[0m\u001b[0;34m=\u001b[0m\u001b[0m_quantile_ureduce_func\u001b[0m\u001b[0;34m,\u001b[0m\u001b[0;34m\u001b[0m\u001b[0;34m\u001b[0m\u001b[0m\n\u001b[1;32m   4426\u001b[0m                     \u001b[0mq\u001b[0m\u001b[0;34m=\u001b[0m\u001b[0mq\u001b[0m\u001b[0;34m,\u001b[0m\u001b[0;34m\u001b[0m\u001b[0;34m\u001b[0m\u001b[0m\n",
            "\u001b[0;32m/usr/local/lib/python3.10/dist-packages/numpy/lib/function_base.py\u001b[0m in \u001b[0;36m_ureduce\u001b[0;34m(a, func, **kwargs)\u001b[0m\n\u001b[1;32m   3723\u001b[0m         \u001b[0mkeepdim\u001b[0m \u001b[0;34m=\u001b[0m \u001b[0;34m(\u001b[0m\u001b[0;36m1\u001b[0m\u001b[0;34m,\u001b[0m\u001b[0;34m)\u001b[0m \u001b[0;34m*\u001b[0m \u001b[0ma\u001b[0m\u001b[0;34m.\u001b[0m\u001b[0mndim\u001b[0m\u001b[0;34m\u001b[0m\u001b[0;34m\u001b[0m\u001b[0m\n\u001b[1;32m   3724\u001b[0m \u001b[0;34m\u001b[0m\u001b[0m\n\u001b[0;32m-> 3725\u001b[0;31m     \u001b[0mr\u001b[0m \u001b[0;34m=\u001b[0m \u001b[0mfunc\u001b[0m\u001b[0;34m(\u001b[0m\u001b[0ma\u001b[0m\u001b[0;34m,\u001b[0m \u001b[0;34m**\u001b[0m\u001b[0mkwargs\u001b[0m\u001b[0;34m)\u001b[0m\u001b[0;34m\u001b[0m\u001b[0;34m\u001b[0m\u001b[0m\n\u001b[0m\u001b[1;32m   3726\u001b[0m     \u001b[0;32mreturn\u001b[0m \u001b[0mr\u001b[0m\u001b[0;34m,\u001b[0m \u001b[0mkeepdim\u001b[0m\u001b[0;34m\u001b[0m\u001b[0;34m\u001b[0m\u001b[0m\n\u001b[1;32m   3727\u001b[0m \u001b[0;34m\u001b[0m\u001b[0m\n",
            "\u001b[0;32m/usr/local/lib/python3.10/dist-packages/numpy/lib/function_base.py\u001b[0m in \u001b[0;36m_quantile_ureduce_func\u001b[0;34m(a, q, axis, out, overwrite_input, method)\u001b[0m\n\u001b[1;32m   4591\u001b[0m         \u001b[0;32melse\u001b[0m\u001b[0;34m:\u001b[0m\u001b[0;34m\u001b[0m\u001b[0;34m\u001b[0m\u001b[0m\n\u001b[1;32m   4592\u001b[0m             \u001b[0marr\u001b[0m \u001b[0;34m=\u001b[0m \u001b[0ma\u001b[0m\u001b[0;34m.\u001b[0m\u001b[0mcopy\u001b[0m\u001b[0;34m(\u001b[0m\u001b[0;34m)\u001b[0m\u001b[0;34m\u001b[0m\u001b[0;34m\u001b[0m\u001b[0m\n\u001b[0;32m-> 4593\u001b[0;31m     result = _quantile(arr,\n\u001b[0m\u001b[1;32m   4594\u001b[0m                        \u001b[0mquantiles\u001b[0m\u001b[0;34m=\u001b[0m\u001b[0mq\u001b[0m\u001b[0;34m,\u001b[0m\u001b[0;34m\u001b[0m\u001b[0;34m\u001b[0m\u001b[0m\n\u001b[1;32m   4595\u001b[0m                        \u001b[0maxis\u001b[0m\u001b[0;34m=\u001b[0m\u001b[0maxis\u001b[0m\u001b[0;34m,\u001b[0m\u001b[0;34m\u001b[0m\u001b[0;34m\u001b[0m\u001b[0m\n",
            "\u001b[0;32m/usr/local/lib/python3.10/dist-packages/numpy/lib/function_base.py\u001b[0m in \u001b[0;36m_quantile\u001b[0;34m(arr, quantiles, axis, method, out)\u001b[0m\n\u001b[1;32m   4671\u001b[0m             \u001b[0;34mf\"{method!r} is not a valid method. Use one of: \"\u001b[0m\u001b[0;34m\u001b[0m\u001b[0;34m\u001b[0m\u001b[0m\n\u001b[1;32m   4672\u001b[0m             f\"{_QuantileMethods.keys()}\") from None\n\u001b[0;32m-> 4673\u001b[0;31m     \u001b[0mvirtual_indexes\u001b[0m \u001b[0;34m=\u001b[0m \u001b[0mmethod\u001b[0m\u001b[0;34m[\u001b[0m\u001b[0;34m\"get_virtual_index\"\u001b[0m\u001b[0;34m]\u001b[0m\u001b[0;34m(\u001b[0m\u001b[0mvalues_count\u001b[0m\u001b[0;34m,\u001b[0m \u001b[0mquantiles\u001b[0m\u001b[0;34m)\u001b[0m\u001b[0;34m\u001b[0m\u001b[0;34m\u001b[0m\u001b[0m\n\u001b[0m\u001b[1;32m   4674\u001b[0m     \u001b[0mvirtual_indexes\u001b[0m \u001b[0;34m=\u001b[0m \u001b[0mnp\u001b[0m\u001b[0;34m.\u001b[0m\u001b[0masanyarray\u001b[0m\u001b[0;34m(\u001b[0m\u001b[0mvirtual_indexes\u001b[0m\u001b[0;34m)\u001b[0m\u001b[0;34m\u001b[0m\u001b[0;34m\u001b[0m\u001b[0m\n\u001b[1;32m   4675\u001b[0m     \u001b[0;32mif\u001b[0m \u001b[0mnp\u001b[0m\u001b[0;34m.\u001b[0m\u001b[0missubdtype\u001b[0m\u001b[0;34m(\u001b[0m\u001b[0mvirtual_indexes\u001b[0m\u001b[0;34m.\u001b[0m\u001b[0mdtype\u001b[0m\u001b[0;34m,\u001b[0m \u001b[0mnp\u001b[0m\u001b[0;34m.\u001b[0m\u001b[0minteger\u001b[0m\u001b[0;34m)\u001b[0m\u001b[0;34m:\u001b[0m\u001b[0;34m\u001b[0m\u001b[0;34m\u001b[0m\u001b[0m\n",
            "\u001b[0;31mKeyboardInterrupt\u001b[0m: "
          ]
        }
      ],
      "source": [
        "from sklearn.model_selection import train_test_split\n",
        "from sklearn.linear_model import LogisticRegression\n",
        "from sklearn.metrics import classification_report\n",
        "from sklearn.feature_extraction.text import TfidfVectorizer\n",
        "\n",
        "# Initialize a TF-IDF Vectorizer\n",
        "vectorizer = TfidfVectorizer()\n",
        "\n",
        "# This is your feature matrix\n",
        "from sklearn.model_selection import train_test_split\n",
        "from sklearn.linear_model import LogisticRegression\n",
        "from sklearn.metrics import classification_report\n",
        "\n",
        "df['ups_category'] = ['high' if x >= df['ups'].quantile(0.9) else 'none' if x == 0 else 'ignore' for x in df['ups']]\n",
        "\n",
        "# Filter out the posts that are not in the 'high' or 'none' categories\n",
        "df_filtered = df[df['ups_category'].isin(['high', 'none'])]\n",
        "\n",
        "# Splitting the dataset into training and testing sets\n",
        "X_train_raw, X_test_raw, y_train, y_test = train_test_split(df_filtered['text'], df_filtered['ups_category'], test_size=0.2, random_state=42)\n",
        "\n",
        "# Initialize a TF-IDF Vectorizer\n",
        "vectorizer = TfidfVectorizer()\n",
        "\n",
        "# Fit and transform the training raw text data\n",
        "X_train = vectorizer.fit_transform(X_train_raw)\n",
        "\n",
        "# Transform the testing raw text data\n",
        "X_test = vectorizer.transform(X_test_raw)\n"
      ]
    },
    {
      "cell_type": "code",
      "execution_count": 9,
      "metadata": {
        "colab": {
          "base_uri": "https://localhost:8080/"
        },
        "id": "L5HzsTKqCNrl",
        "outputId": "898f276a-1b6a-4867-c2ea-901f715918b1"
      },
      "outputs": [
        {
          "name": "stdout",
          "output_type": "stream",
          "text": [
            "              precision    recall  f1-score   support\n",
            "\n",
            "        high       0.94      1.00      0.97      1768\n",
            "        none       1.00      0.72      0.83       365\n",
            "\n",
            "    accuracy                           0.95      2133\n",
            "   macro avg       0.97      0.86      0.90      2133\n",
            "weighted avg       0.95      0.95      0.95      2133\n",
            "\n",
            "         Feature  Coefficient  abs_coefficient\n",
            "1094         its     1.704098         1.704098\n",
            "1070   insurance     1.497978         1.497978\n",
            "535         date     1.395795         1.395795\n",
            "1962  supporting     1.365308         1.365308\n",
            "1828         she    -1.358137         1.358137\n",
            "956          her    -1.253436         1.253436\n",
            "2029        they    -1.243920         1.243920\n",
            "206       attack     1.197598         1.197598\n",
            "1601       proud     1.178264         1.178264\n",
            "1380          nt    -1.144758         1.144758\n",
            "462   considered     1.137561         1.137561\n",
            "541         deal     1.133974         1.133974\n",
            "853      georgia     1.125425         1.125425\n",
            "158           am     1.109648         1.109648\n",
            "990          how     1.069528         1.069528\n",
            "1144         law     1.045920         1.045920\n",
            "187          are    -1.015956         1.015956\n",
            "1946  subliminal     1.015469         1.015469\n",
            "621        doing    -1.008569         1.008569\n",
            "2018      thanks     0.998335         0.998335\n"
          ]
        }
      ],
      "source": [
        "# Fit your logistic regression model\n",
        "model = LogisticRegression(C=0.1, penalty='l2', random_state=42)\n",
        "model.fit(X_train, y_train)\n",
        "y_pred = model.predict(X_test)\n",
        "print(classification_report(y_test, y_pred))\n",
        "\n",
        "# Get feature names from the TF-IDF Vectorizer\n",
        "feature_names = vectorizer.get_feature_names_out()\n",
        "\n",
        "# Get the coefficients from the logistic regression model\n",
        "coefficients = model.coef_[0]\n",
        "\n",
        "# Create a DataFrame to view the coefficients alongside feature names\n",
        "feature_importance = pd.DataFrame({'Feature': feature_names, 'Coefficient': coefficients})\n",
        "\n",
        "# Sort the DataFrame by the absolute values of coefficients to see the most important features\n",
        "feature_importance['abs_coefficient'] = feature_importance['Coefficient'].abs()\n",
        "feature_importance = feature_importance.sort_values(by='abs_coefficient', ascending=False)\n",
        "\n",
        "# Display the top features\n",
        "print(feature_importance.head(20))\n"
      ]
    },
    {
      "cell_type": "code",
      "execution_count": 217,
      "metadata": {
        "colab": {
          "base_uri": "https://localhost:8080/",
          "height": 563
        },
        "id": "lH7nWPVIcvW9",
        "outputId": "118a904b-696b-41d9-e6b9-042594440898"
      },
      "outputs": [
        {
          "data": {
            "image/png": "[encoded data removed]",
            "text/plain": [
              "<Figure size 1000x600 with 1 Axes>"
            ]
          },
          "metadata": {},
          "output_type": "display_data"
        }
      ],
      "source": [
        "import matplotlib.pyplot as plt\n",
        "import seaborn as sns\n",
        "\n",
        "\n",
        "# Visualization of Feature Importances\n",
        "plt.figure(figsize=(10, 6))\n",
        "sns.barplot(x='Coefficient', y='Feature', data=feature_importance.sort_values(by='Coefficient', ascending=False).head(20))\n",
        "plt.title('Top 20 Features in Logistic Regression Model')\n",
        "plt.xlabel('Coefficient Value')\n",
        "plt.ylabel('Feature')\n",
        "plt.show()"
      ]
    },
    {
      "cell_type": "code",
      "execution_count": 218,
      "metadata": {
        "colab": {
          "base_uri": "https://localhost:8080/",
          "height": 563
        },
        "id": "GR17XZy3dbtW",
        "outputId": "c49df54a-c600-4499-b0dc-2b6e9e323fa6"
      },
      "outputs": [
        {
          "data": {
            "image/png": "[encoded data removed]",
            "text/plain": [
              "<Figure size 1000x600 with 1 Axes>"
            ]
          },
          "metadata": {},
          "output_type": "display_data"
        }
      ],
      "source": [
        "import matplotlib.pyplot as plt\n",
        "import seaborn as sns\n",
        "\n",
        "# Assuming 'feature_importance' is your DataFrame with 'Feature' and 'Coefficient' columns\n",
        "# Selecting top features with the most negative coefficients\n",
        "top_negative_features = feature_importance.sort_values(by='Coefficient').head(20)\n",
        "\n",
        "# Plotting\n",
        "plt.figure(figsize=(10, 6))\n",
        "sns.barplot(x='Coefficient', y='Feature', data=top_negative_features)\n",
        "plt.title('Top 20 Negative Features in Logistic Regression Model')\n",
        "plt.xlabel('Coefficient Value')\n",
        "plt.ylabel('Feature')\n",
        "plt.show()\n"
      ]
    },
    {
      "cell_type": "code",
      "execution_count": null,
      "metadata": {
        "id": "fjAuw76bN1Nh"
      },
      "outputs": [],
      "source": [
        "#define \"texts\" variable as to the top 10% of upvotes\n",
        "texts = df_np[df_np['ups'] >= df_np['ups'].quantile(0.90)]['text']\n",
        "# Remove empty strings (if necessary)\n",
        "\n",
        "#Save to a text file\n",
        "with open('top_10_percent.txt', 'w') as f:\n",
        "    for text in texts:\n",
        "        f.write(\"%s\\n\" % text)"
      ]
    },
    {
      "cell_type": "code",
      "execution_count": 12,
      "metadata": {
        "colab": {
          "base_uri": "https://localhost:8080/"
        },
        "id": "2PNHjpmnkevJ",
        "outputId": "c7b31650-95b7-4f3d-c476-8ba69fc03cd2"
      },
      "outputs": [
        {
          "data": {
            "text/plain": [
              "20       thank you gop for making me think of cruz when...\n",
              "28       he brings up two random supporters to speak fo...\n",
              "35       this was actually pretty awesome and holy crap...\n",
              "36       this is great what a bunch of high energy indi...\n",
              "44       welcome to the information age where your past...\n",
              "                               ...                        \n",
              "94021    somebody does nt want to campaign on not doing...\n",
              "94022     he advised the president to nominate someone ...\n",
              "94024    i think it is pretty hilarious that this is be...\n",
              "94025     if he puts forth someone that we think is in ...\n",
              "94026    he wo nt be the last to break ranks too many o...\n",
              "Name: text, Length: 8823, dtype: object"
            ]
          },
          "execution_count": 12,
          "metadata": {},
          "output_type": "execute_result"
        }
      ],
      "source": [
        "texts"
      ]
    },
    {
      "cell_type": "code",
      "execution_count": 13,
      "metadata": {
        "id": "vi6QIiDy49HZ"
      },
      "outputs": [],
      "source": [
        "from transformers import GPT2LMHeadModel, GPT2Tokenizer, GPT2Config\n",
        "from transformers import TextDataset, DataCollatorForLanguageModeling\n",
        "from transformers import Trainer, TrainingArguments"
      ]
    },
    {
      "cell_type": "code",
      "execution_count": 14,
      "metadata": {
        "id": "RK2IwU4w49Ha"
      },
      "outputs": [],
      "source": [
        "def fine_tune_gpt2(model_name, train_file, output_dir, num_layers_to_unfreeze):\n",
        "    # Load GPT-2 model and tokenizer\n",
        "    model = GPT2LMHeadModel.from_pretrained(model_name)\n",
        "\n",
        "\n",
        "    tokenizer = GPT2Tokenizer.from_pretrained(model_name)\n",
        "\n",
        "    # Unfreeze the last num_layers_to_unfreeze layers\n",
        "    for parameter in model.transformer.h[-num_layers_to_unfreeze:].parameters():\n",
        "        parameter.requires_grad = True\n",
        "\n",
        "    # Freeze all other layers\n",
        "    for parameter in model.transformer.h[:-num_layers_to_unfreeze].parameters():\n",
        "        parameter.requires_grad = False\n",
        "\n",
        "\n",
        "# Load training dataset\n",
        "    train_dataset = TextDataset(\n",
        "        tokenizer=tokenizer,\n",
        "        file_path=train_file,\n",
        "        block_size=128)\n",
        "    # Create data collator for language modeling\n",
        "    data_collator = DataCollatorForLanguageModeling(\n",
        "        tokenizer=tokenizer, mlm=False)\n",
        "    # Set training arguments\n",
        "    training_args = TrainingArguments(\n",
        "        output_dir=output_dir,\n",
        "        overwrite_output_dir=True,\n",
        "        num_train_epochs=1,\n",
        "        per_device_train_batch_size=8,\n",
        "        save_steps=10_000,\n",
        "        save_total_limit=2,\n",
        "    )\n",
        "    # Train the model\n",
        "    trainer = Trainer(\n",
        "        model=model,\n",
        "        args=training_args,\n",
        "        data_collator=data_collator,\n",
        "        train_dataset=train_dataset,\n",
        "    )\n",
        "    trainer.train()\n",
        "    # Save the fine-tuned model\n",
        "    model.save_pretrained(output_dir)\n",
        "    tokenizer.save_pretrained(output_dir)"
      ]
    },
    {
      "cell_type": "code",
      "execution_count": null,
      "metadata": {
        "colab": {
          "base_uri": "https://localhost:8080/"
        },
        "id": "aRanN1BA51qp",
        "outputId": "99be02c6-418a-4999-bdae-b2d3f921c18c"
      },
      "outputs": [
        {
          "name": "stdout",
          "output_type": "stream",
          "text": [
            "Name: accelerate\n",
            "Version: 0.25.0\n",
            "Summary: Accelerate\n",
            "Home-page: https://github.com/huggingface/accelerate\n",
            "Author: The HuggingFace team\n",
            "Author-email: sylvain@huggingface.co\n",
            "License: Apache\n",
            "Location: /usr/local/lib/python3.10/dist-packages\n",
            "Requires: huggingface-hub, numpy, packaging, psutil, pyyaml, safetensors, torch\n",
            "Required-by: \n"
          ]
        }
      ],
      "source": [
        "!pip install accelerate"
      ]
    },
    {
      "cell_type": "code",
      "execution_count": 15,
      "metadata": {
        "colab": {
          "base_uri": "https://localhost:8080/",
          "height": 127
        },
        "id": "co4ZmyQA49Ha",
        "outputId": "befe51fd-fca9-4ada-c4fe-b4e6b86806f5"
      },
      "outputs": [
        {
          "name": "stderr",
          "output_type": "stream",
          "text": [
            "/usr/local/lib/python3.10/dist-packages/transformers/data/datasets/language_modeling.py:53: FutureWarning: This dataset will be removed from the library soon, preprocessing should be handled with the 🤗 Datasets library. You can have a look at this example script for pointers: https://github.com/huggingface/transformers/blob/main/examples/pytorch/language-modeling/run_mlm.py\n",
            "  warnings.warn(\n"
          ]
        },
        {
          "data": {
            "text/html": [
              "\n",
              "    <div>\n",
              "      \n",
              "      <progress value='262' max='262' style='width:300px; height:20px; vertical-align: middle;'></progress>\n",
              "      [262/262 1:01:44, Epoch 1/1]\n",
              "    </div>\n",
              "    <table border=\"1\" class=\"dataframe\">\n",
              "  <thead>\n",
              " <tr style=\"text-align: left;\">\n",
              "      <th>Step</th>\n",
              "      <th>Training Loss</th>\n",
              "    </tr>\n",
              "  </thead>\n",
              "  <tbody>\n",
              "  </tbody>\n",
              "</table><p>"
            ],
            "text/plain": [
              "<IPython.core.display.HTML object>"
            ]
          },
          "metadata": {},
          "output_type": "display_data"
        }
      ],
      "source": [
        "# Fine-tune the model\n",
        "fine_tune_gpt2(\"gpt2\", \"top_10_percent.txt\", \"output\", 2)"
      ]
    },
    {
      "cell_type": "code",
      "execution_count": 16,
      "metadata": {
        "colab": {
          "base_uri": "https://localhost:8080/",
          "height": 34
        },
        "id": "CnRcZHk-Pd8e",
        "outputId": "8f14933a-35b4-4d02-a202-18e9d1deab3b"
      },
      "outputs": [
        {
          "data": {
            "application/vnd.google.colaboratory.intrinsic+json": {
              "type": "string"
            },
            "text/plain": [
              "'/content/output.zip'"
            ]
          },
          "execution_count": 16,
          "metadata": {},
          "output_type": "execute_result"
        }
      ],
      "source": [
        "import shutil\n",
        "\n",
        "shutil.make_archive(\"/content/output\", 'zip', \"/content/output\")\n"
      ]
    },
    {
      "cell_type": "code",
      "execution_count": 240,
      "metadata": {
        "colab": {
          "base_uri": "https://localhost:8080/"
        },
        "id": "g-nJsiwtNmkV",
        "outputId": "601e37ac-7b99-41b0-90c1-016199b04aff"
      },
      "outputs": [
        {
          "name": "stderr",
          "output_type": "stream",
          "text": [
            "The attention mask and the pad token id were not set. As a consequence, you may observe unexpected behavior. Please pass your input's `attention_mask` to obtain reliable results.\n",
            "Setting `pad_token_id` to `eos_token_id`:50256 for open-end generation.\n"
          ]
        },
        {
          "name": "stdout",
          "output_type": "stream",
          "text": [
            "Clinton is a moderate who has a record of courting the base and courting the base is a sign that she has a serious plan to address the problems that affect the country she leads it in the first place and she has a plan to address the\n"
          ]
        }
      ],
      "source": [
        "from transformers import GPT2LMHeadModel, GPT2Tokenizer\n",
        "\n",
        "def generate_text(model_path, prompt, max_length=50):\n",
        "    # Load the fine-tuned model and tokenizer\n",
        "    model = GPT2LMHeadModel.from_pretrained(model_path)\n",
        "    tokenizer = GPT2Tokenizer.from_pretrained(model_path)\n",
        "\n",
        "    # Encode the input prompt to get tensor\n",
        "    input_ids = tokenizer.encode(prompt, return_tensors='pt')\n",
        "\n",
        "    # Generate text\n",
        "    output = model.generate(input_ids, max_length=max_length, num_return_sequences=1)\n",
        "\n",
        "    # Decode and return the generated text\n",
        "    return tokenizer.decode(output[0], skip_special_tokens=True)\n",
        "\n",
        "# Example usage\n",
        "output_text = generate_text(\"output\", \"Clinton is\")\n",
        "print(output_text)\n"
      ]
    },
    {
      "cell_type": "code",
      "execution_count": 227,
      "metadata": {
        "id": "29ylM2BFf5Oj"
      },
      "outputs": [],
      "source": [
        "from transformers import GPT2LMHeadModel, GPT2Tokenizer\n",
        "\n",
        "# Specify the directory where the fine-tuned model and tokenizer are saved\n",
        "output_dir = \"/content/output\"\n",
        "\n",
        "# Load the fine-tuned model\n",
        "model = GPT2LMHeadModel.from_pretrained(output_dir)\n",
        "\n",
        "# Load the tokenizer\n",
        "tokenizer = GPT2Tokenizer.from_pretrained(output_dir)\n"
      ]
    },
    {
      "cell_type": "markdown",
      "metadata": {
        "id": "azPDL6NPhnl5"
      },
      "source": [
        "The rest of this code attempts to use GP3, which unfortunately costs money so I did not pursue further"
      ]
    },
    {
      "cell_type": "code",
      "execution_count": 33,
      "metadata": {
        "id": "4MonHGD05KDv"
      },
      "outputs": [],
      "source": [
        "\"\"\"# Import the os package\n",
        "import os\n",
        "\n",
        "# Import the openai package\n",
        "import openai\n",
        "\n",
        "# From the IPython.display package, import display and Markdown\n",
        "from IPython.display import display, Markdown\n",
        "\n",
        "# Import yfinance as yf\n",
        "import yfinance as yf"
      ]
    },
    {
      "cell_type": "code",
      "execution_count": 48,
      "metadata": {
        "id": "W2XYdxGt49Ha"
      },
      "outputs": [],
      "source": [
        "\"\"\"import openai as ai\n",
        "os.environ[\"OPENAI_API_KEY\"] = #### INSERT KEY HERE ####\n",
        "\n"
      ]
    },
    {
      "cell_type": "code",
      "execution_count": 50,
      "metadata": {
        "colab": {
          "base_uri": "https://localhost:8080/",
          "height": 408
        },
        "id": "avwp0r8k48Z2",
        "outputId": "7c8195e9-ff60-46a1-e009-98b56cbed13d"
      },
      "outputs": [
        {
          "ename": "RateLimitError",
          "evalue": "ignored",
          "output_type": "error",
          "traceback": [
            "\u001b[0;31m---------------------------------------------------------------------------\u001b[0m",
            "\u001b[0;31mRateLimitError\u001b[0m                            Traceback (most recent call last)",
            "\u001b[0;32m<ipython-input-50-47193dd13e4b>\u001b[0m in \u001b[0;36m<cell line: 4>\u001b[0;34m()\u001b[0m\n\u001b[1;32m      2\u001b[0m \u001b[0mclient\u001b[0m \u001b[0;34m=\u001b[0m \u001b[0mOpenAI\u001b[0m\u001b[0;34m(\u001b[0m\u001b[0;34m)\u001b[0m\u001b[0;34m\u001b[0m\u001b[0;34m\u001b[0m\u001b[0m\n\u001b[1;32m      3\u001b[0m \u001b[0;34m\u001b[0m\u001b[0m\n\u001b[0;32m----> 4\u001b[0;31m response = client.chat.completions.create(\n\u001b[0m\u001b[1;32m      5\u001b[0m   \u001b[0mmodel\u001b[0m\u001b[0;34m=\u001b[0m\u001b[0;34m\"gpt-3.5-turbo\"\u001b[0m\u001b[0;34m,\u001b[0m\u001b[0;34m\u001b[0m\u001b[0;34m\u001b[0m\u001b[0m\n\u001b[1;32m      6\u001b[0m   messages=[\n",
            "\u001b[0;32m/usr/local/lib/python3.10/dist-packages/openai/_utils/_utils.py\u001b[0m in \u001b[0;36mwrapper\u001b[0;34m(*args, **kwargs)\u001b[0m\n\u001b[1;32m    301\u001b[0m                         \u001b[0mmsg\u001b[0m \u001b[0;34m=\u001b[0m \u001b[0;34mf\"Missing required argument: {quote(missing[0])}\"\u001b[0m\u001b[0;34m\u001b[0m\u001b[0;34m\u001b[0m\u001b[0m\n\u001b[1;32m    302\u001b[0m                 \u001b[0;32mraise\u001b[0m \u001b[0mTypeError\u001b[0m\u001b[0;34m(\u001b[0m\u001b[0mmsg\u001b[0m\u001b[0;34m)\u001b[0m\u001b[0;34m\u001b[0m\u001b[0;34m\u001b[0m\u001b[0m\n\u001b[0;32m--> 303\u001b[0;31m             \u001b[0;32mreturn\u001b[0m \u001b[0mfunc\u001b[0m\u001b[0;34m(\u001b[0m\u001b[0;34m*\u001b[0m\u001b[0margs\u001b[0m\u001b[0;34m,\u001b[0m \u001b[0;34m**\u001b[0m\u001b[0mkwargs\u001b[0m\u001b[0;34m)\u001b[0m\u001b[0;34m\u001b[0m\u001b[0;34m\u001b[0m\u001b[0m\n\u001b[0m\u001b[1;32m    304\u001b[0m \u001b[0;34m\u001b[0m\u001b[0m\n\u001b[1;32m    305\u001b[0m         \u001b[0;32mreturn\u001b[0m \u001b[0mwrapper\u001b[0m  \u001b[0;31m# type: ignore\u001b[0m\u001b[0;34m\u001b[0m\u001b[0;34m\u001b[0m\u001b[0m\n",
            "\u001b[0;32m/usr/local/lib/python3.10/dist-packages/openai/resources/chat/completions.py\u001b[0m in \u001b[0;36mcreate\u001b[0;34m(self, messages, model, frequency_penalty, function_call, functions, logit_bias, max_tokens, n, presence_penalty, response_format, seed, stop, stream, temperature, tool_choice, tools, top_p, user, extra_headers, extra_query, extra_body, timeout)\u001b[0m\n\u001b[1;32m    596\u001b[0m         \u001b[0mtimeout\u001b[0m\u001b[0;34m:\u001b[0m \u001b[0mfloat\u001b[0m \u001b[0;34m|\u001b[0m \u001b[0mhttpx\u001b[0m\u001b[0;34m.\u001b[0m\u001b[0mTimeout\u001b[0m \u001b[0;34m|\u001b[0m \u001b[0;32mNone\u001b[0m \u001b[0;34m|\u001b[0m \u001b[0mNotGiven\u001b[0m \u001b[0;34m=\u001b[0m \u001b[0mNOT_GIVEN\u001b[0m\u001b[0;34m,\u001b[0m\u001b[0;34m\u001b[0m\u001b[0;34m\u001b[0m\u001b[0m\n\u001b[1;32m    597\u001b[0m     ) -> ChatCompletion | Stream[ChatCompletionChunk]:\n\u001b[0;32m--> 598\u001b[0;31m         return self._post(\n\u001b[0m\u001b[1;32m    599\u001b[0m             \u001b[0;34m\"/chat/completions\"\u001b[0m\u001b[0;34m,\u001b[0m\u001b[0;34m\u001b[0m\u001b[0;34m\u001b[0m\u001b[0m\n\u001b[1;32m    600\u001b[0m             body=maybe_transform(\n",
            "\u001b[0;32m/usr/local/lib/python3.10/dist-packages/openai/_base_client.py\u001b[0m in \u001b[0;36mpost\u001b[0;34m(self, path, cast_to, body, options, files, stream, stream_cls)\u001b[0m\n\u001b[1;32m   1084\u001b[0m             \u001b[0mmethod\u001b[0m\u001b[0;34m=\u001b[0m\u001b[0;34m\"post\"\u001b[0m\u001b[0;34m,\u001b[0m \u001b[0murl\u001b[0m\u001b[0;34m=\u001b[0m\u001b[0mpath\u001b[0m\u001b[0;34m,\u001b[0m \u001b[0mjson_data\u001b[0m\u001b[0;34m=\u001b[0m\u001b[0mbody\u001b[0m\u001b[0;34m,\u001b[0m \u001b[0mfiles\u001b[0m\u001b[0;34m=\u001b[0m\u001b[0mto_httpx_files\u001b[0m\u001b[0;34m(\u001b[0m\u001b[0mfiles\u001b[0m\u001b[0;34m)\u001b[0m\u001b[0;34m,\u001b[0m \u001b[0;34m**\u001b[0m\u001b[0moptions\u001b[0m\u001b[0;34m\u001b[0m\u001b[0;34m\u001b[0m\u001b[0m\n\u001b[1;32m   1085\u001b[0m         )\n\u001b[0;32m-> 1086\u001b[0;31m         \u001b[0;32mreturn\u001b[0m \u001b[0mcast\u001b[0m\u001b[0;34m(\u001b[0m\u001b[0mResponseT\u001b[0m\u001b[0;34m,\u001b[0m \u001b[0mself\u001b[0m\u001b[0;34m.\u001b[0m\u001b[0mrequest\u001b[0m\u001b[0;34m(\u001b[0m\u001b[0mcast_to\u001b[0m\u001b[0;34m,\u001b[0m \u001b[0mopts\u001b[0m\u001b[0;34m,\u001b[0m \u001b[0mstream\u001b[0m\u001b[0;34m=\u001b[0m\u001b[0mstream\u001b[0m\u001b[0;34m,\u001b[0m \u001b[0mstream_cls\u001b[0m\u001b[0;34m=\u001b[0m\u001b[0mstream_cls\u001b[0m\u001b[0;34m)\u001b[0m\u001b[0;34m)\u001b[0m\u001b[0;34m\u001b[0m\u001b[0;34m\u001b[0m\u001b[0m\n\u001b[0m\u001b[1;32m   1087\u001b[0m \u001b[0;34m\u001b[0m\u001b[0m\n\u001b[1;32m   1088\u001b[0m     def patch(\n",
            "\u001b[0;32m/usr/local/lib/python3.10/dist-packages/openai/_base_client.py\u001b[0m in \u001b[0;36mrequest\u001b[0;34m(self, cast_to, options, remaining_retries, stream, stream_cls)\u001b[0m\n\u001b[1;32m    844\u001b[0m         \u001b[0mstream_cls\u001b[0m\u001b[0;34m:\u001b[0m \u001b[0mtype\u001b[0m\u001b[0;34m[\u001b[0m\u001b[0m_StreamT\u001b[0m\u001b[0;34m]\u001b[0m \u001b[0;34m|\u001b[0m \u001b[0;32mNone\u001b[0m \u001b[0;34m=\u001b[0m \u001b[0;32mNone\u001b[0m\u001b[0;34m,\u001b[0m\u001b[0;34m\u001b[0m\u001b[0;34m\u001b[0m\u001b[0m\n\u001b[1;32m    845\u001b[0m     ) -> ResponseT | _StreamT:\n\u001b[0;32m--> 846\u001b[0;31m         return self._request(\n\u001b[0m\u001b[1;32m    847\u001b[0m             \u001b[0mcast_to\u001b[0m\u001b[0;34m=\u001b[0m\u001b[0mcast_to\u001b[0m\u001b[0;34m,\u001b[0m\u001b[0;34m\u001b[0m\u001b[0;34m\u001b[0m\u001b[0m\n\u001b[1;32m    848\u001b[0m             \u001b[0moptions\u001b[0m\u001b[0;34m=\u001b[0m\u001b[0moptions\u001b[0m\u001b[0;34m,\u001b[0m\u001b[0;34m\u001b[0m\u001b[0;34m\u001b[0m\u001b[0m\n",
            "\u001b[0;32m/usr/local/lib/python3.10/dist-packages/openai/_base_client.py\u001b[0m in \u001b[0;36m_request\u001b[0;34m(self, cast_to, options, remaining_retries, stream, stream_cls)\u001b[0m\n\u001b[1;32m    882\u001b[0m             \u001b[0;32mif\u001b[0m \u001b[0mretries\u001b[0m \u001b[0;34m>\u001b[0m \u001b[0;36m0\u001b[0m \u001b[0;32mand\u001b[0m \u001b[0mself\u001b[0m\u001b[0;34m.\u001b[0m\u001b[0m_should_retry\u001b[0m\u001b[0;34m(\u001b[0m\u001b[0merr\u001b[0m\u001b[0;34m.\u001b[0m\u001b[0mresponse\u001b[0m\u001b[0;34m)\u001b[0m\u001b[0;34m:\u001b[0m\u001b[0;34m\u001b[0m\u001b[0;34m\u001b[0m\u001b[0m\n\u001b[1;32m    883\u001b[0m                 \u001b[0merr\u001b[0m\u001b[0;34m.\u001b[0m\u001b[0mresponse\u001b[0m\u001b[0;34m.\u001b[0m\u001b[0mclose\u001b[0m\u001b[0;34m(\u001b[0m\u001b[0;34m)\u001b[0m\u001b[0;34m\u001b[0m\u001b[0;34m\u001b[0m\u001b[0m\n\u001b[0;32m--> 884\u001b[0;31m                 return self._retry_request(\n\u001b[0m\u001b[1;32m    885\u001b[0m                     \u001b[0moptions\u001b[0m\u001b[0;34m,\u001b[0m\u001b[0;34m\u001b[0m\u001b[0;34m\u001b[0m\u001b[0m\n\u001b[1;32m    886\u001b[0m                     \u001b[0mcast_to\u001b[0m\u001b[0;34m,\u001b[0m\u001b[0;34m\u001b[0m\u001b[0;34m\u001b[0m\u001b[0m\n",
            "\u001b[0;32m/usr/local/lib/python3.10/dist-packages/openai/_base_client.py\u001b[0m in \u001b[0;36m_retry_request\u001b[0;34m(self, options, cast_to, remaining_retries, response_headers, stream, stream_cls)\u001b[0m\n\u001b[1;32m    954\u001b[0m         \u001b[0mtime\u001b[0m\u001b[0;34m.\u001b[0m\u001b[0msleep\u001b[0m\u001b[0;34m(\u001b[0m\u001b[0mtimeout\u001b[0m\u001b[0;34m)\u001b[0m\u001b[0;34m\u001b[0m\u001b[0;34m\u001b[0m\u001b[0m\n\u001b[1;32m    955\u001b[0m \u001b[0;34m\u001b[0m\u001b[0m\n\u001b[0;32m--> 956\u001b[0;31m         return self._request(\n\u001b[0m\u001b[1;32m    957\u001b[0m             \u001b[0moptions\u001b[0m\u001b[0;34m=\u001b[0m\u001b[0moptions\u001b[0m\u001b[0;34m,\u001b[0m\u001b[0;34m\u001b[0m\u001b[0;34m\u001b[0m\u001b[0m\n\u001b[1;32m    958\u001b[0m             \u001b[0mcast_to\u001b[0m\u001b[0;34m=\u001b[0m\u001b[0mcast_to\u001b[0m\u001b[0;34m,\u001b[0m\u001b[0;34m\u001b[0m\u001b[0;34m\u001b[0m\u001b[0m\n",
            "\u001b[0;32m/usr/local/lib/python3.10/dist-packages/openai/_base_client.py\u001b[0m in \u001b[0;36m_request\u001b[0;34m(self, cast_to, options, remaining_retries, stream, stream_cls)\u001b[0m\n\u001b[1;32m    882\u001b[0m             \u001b[0;32mif\u001b[0m \u001b[0mretries\u001b[0m \u001b[0;34m>\u001b[0m \u001b[0;36m0\u001b[0m \u001b[0;32mand\u001b[0m \u001b[0mself\u001b[0m\u001b[0;34m.\u001b[0m\u001b[0m_should_retry\u001b[0m\u001b[0;34m(\u001b[0m\u001b[0merr\u001b[0m\u001b[0;34m.\u001b[0m\u001b[0mresponse\u001b[0m\u001b[0;34m)\u001b[0m\u001b[0;34m:\u001b[0m\u001b[0;34m\u001b[0m\u001b[0;34m\u001b[0m\u001b[0m\n\u001b[1;32m    883\u001b[0m                 \u001b[0merr\u001b[0m\u001b[0;34m.\u001b[0m\u001b[0mresponse\u001b[0m\u001b[0;34m.\u001b[0m\u001b[0mclose\u001b[0m\u001b[0;34m(\u001b[0m\u001b[0;34m)\u001b[0m\u001b[0;34m\u001b[0m\u001b[0;34m\u001b[0m\u001b[0m\n\u001b[0;32m--> 884\u001b[0;31m                 return self._retry_request(\n\u001b[0m\u001b[1;32m    885\u001b[0m                     \u001b[0moptions\u001b[0m\u001b[0;34m,\u001b[0m\u001b[0;34m\u001b[0m\u001b[0;34m\u001b[0m\u001b[0m\n\u001b[1;32m    886\u001b[0m                     \u001b[0mcast_to\u001b[0m\u001b[0;34m,\u001b[0m\u001b[0;34m\u001b[0m\u001b[0;34m\u001b[0m\u001b[0m\n",
            "\u001b[0;32m/usr/local/lib/python3.10/dist-packages/openai/_base_client.py\u001b[0m in \u001b[0;36m_retry_request\u001b[0;34m(self, options, cast_to, remaining_retries, response_headers, stream, stream_cls)\u001b[0m\n\u001b[1;32m    954\u001b[0m         \u001b[0mtime\u001b[0m\u001b[0;34m.\u001b[0m\u001b[0msleep\u001b[0m\u001b[0;34m(\u001b[0m\u001b[0mtimeout\u001b[0m\u001b[0;34m)\u001b[0m\u001b[0;34m\u001b[0m\u001b[0;34m\u001b[0m\u001b[0m\n\u001b[1;32m    955\u001b[0m \u001b[0;34m\u001b[0m\u001b[0m\n\u001b[0;32m--> 956\u001b[0;31m         return self._request(\n\u001b[0m\u001b[1;32m    957\u001b[0m             \u001b[0moptions\u001b[0m\u001b[0;34m=\u001b[0m\u001b[0moptions\u001b[0m\u001b[0;34m,\u001b[0m\u001b[0;34m\u001b[0m\u001b[0;34m\u001b[0m\u001b[0m\n\u001b[1;32m    958\u001b[0m             \u001b[0mcast_to\u001b[0m\u001b[0;34m=\u001b[0m\u001b[0mcast_to\u001b[0m\u001b[0;34m,\u001b[0m\u001b[0;34m\u001b[0m\u001b[0;34m\u001b[0m\u001b[0m\n",
            "\u001b[0;32m/usr/local/lib/python3.10/dist-packages/openai/_base_client.py\u001b[0m in \u001b[0;36m_request\u001b[0;34m(self, cast_to, options, remaining_retries, stream, stream_cls)\u001b[0m\n\u001b[1;32m    896\u001b[0m                 \u001b[0merr\u001b[0m\u001b[0;34m.\u001b[0m\u001b[0mresponse\u001b[0m\u001b[0;34m.\u001b[0m\u001b[0mread\u001b[0m\u001b[0;34m(\u001b[0m\u001b[0;34m)\u001b[0m\u001b[0;34m\u001b[0m\u001b[0;34m\u001b[0m\u001b[0m\n\u001b[1;32m    897\u001b[0m \u001b[0;34m\u001b[0m\u001b[0m\n\u001b[0;32m--> 898\u001b[0;31m             \u001b[0;32mraise\u001b[0m \u001b[0mself\u001b[0m\u001b[0;34m.\u001b[0m\u001b[0m_make_status_error_from_response\u001b[0m\u001b[0;34m(\u001b[0m\u001b[0merr\u001b[0m\u001b[0;34m.\u001b[0m\u001b[0mresponse\u001b[0m\u001b[0;34m)\u001b[0m \u001b[0;32mfrom\u001b[0m \u001b[0;32mNone\u001b[0m\u001b[0;34m\u001b[0m\u001b[0;34m\u001b[0m\u001b[0m\n\u001b[0m\u001b[1;32m    899\u001b[0m         \u001b[0;32mexcept\u001b[0m \u001b[0mhttpx\u001b[0m\u001b[0;34m.\u001b[0m\u001b[0mTimeoutException\u001b[0m \u001b[0;32mas\u001b[0m \u001b[0merr\u001b[0m\u001b[0;34m:\u001b[0m\u001b[0;34m\u001b[0m\u001b[0;34m\u001b[0m\u001b[0m\n\u001b[1;32m    900\u001b[0m             \u001b[0;32mif\u001b[0m \u001b[0mresponse\u001b[0m \u001b[0;32mis\u001b[0m \u001b[0;32mnot\u001b[0m \u001b[0;32mNone\u001b[0m\u001b[0;34m:\u001b[0m\u001b[0;34m\u001b[0m\u001b[0;34m\u001b[0m\u001b[0m\n",
            "\u001b[0;31mRateLimitError\u001b[0m: Error code: 429 - {'error': {'message': 'You exceeded your current quota, please check your plan and billing details.', 'type': 'insufficient_quota', 'param': None, 'code': 'insufficient_quota'}}"
          ]
        }
      ],
      "source": [
        "\"\"\"from openai import OpenAI\n",
        "client = OpenAI()\n",
        "\n",
        "response = client.chat.completions.create(\n",
        "  model=\"gpt-3.5-turbo\",\n",
        "  messages=[\n",
        "    {\"role\": \"system\", \"content\": \"You are a helpful assistant.\"},\n",
        "    {\"role\": \"user\", \"content\": \"Who won the world series in 2020?\"},\n",
        "    {\"role\": \"assistant\", \"content\": \"The Los Angeles Dodgers won the World Series in 2020.\"},\n",
        "    {\"role\": \"user\", \"content\": \"Where was it played?\"}\n",
        "  ]\n",
        ")"
      ]
    },
    {
      "cell_type": "code",
      "execution_count": 233,
      "metadata": {
        "id": "FijiQKJo49Ha"
      },
      "outputs": [],
      "source": [
        "\"\"\"from transformers import BertModel, BertTokenizer\n",
        "import torch\n"
      ]
    },
    {
      "cell_type": "code",
      "execution_count": 235,
      "metadata": {
        "id": "_oDJIAkk4ul6"
      },
      "outputs": [],
      "source": [
        "\"\"\"model_name = \"bert-base-uncased\"  # You can choose other versions of BERT\n",
        "\n",
        "model = BertModel.from_pretrained(model_name)\n",
        "tokenizer = BertTokenizer.from_pretrained(model_name)\n"
      ]
    },
    {
      "cell_type": "code",
      "execution_count": 234,
      "metadata": {
        "id": "NQi1wRRh49Hb"
      },
      "outputs": [],
      "source": [
        "\"\"\"inputs = tokenizer(\"Your input text goes here\", return_tensors=\"pt\")\n"
      ]
    },
    {
      "cell_type": "code",
      "execution_count": 236,
      "metadata": {
        "id": "mlgTncf449Hb"
      },
      "outputs": [],
      "source": [
        "\"\"\"with torch.no_grad():\n",
        "    outputs = model(**inputs)\n",
        "    last_hidden_states = outputs.last_hidden_state\n"
      ]
    },
    {
      "cell_type": "code",
      "execution_count": 239,
      "metadata": {
        "colab": {
          "base_uri": "https://localhost:8080/"
        },
        "id": "xb285Zyo49Hb",
        "outputId": "81b67bbe-a6f3-44e9-df13-5be1ccfb2508"
      },
      "outputs": [
        {
          "data": {
            "text/plain": [
              "tensor([[-6.6709e-02, -1.1770e-01, -1.8137e-01, -2.8853e-01,  1.6586e-02,\n",
              "         -8.9004e-02,  2.8106e-01,  7.3208e-01, -5.8298e-02,  8.3015e-02,\n",
              "         -1.9243e-01,  1.2994e-01,  8.9149e-02,  9.8009e-02, -1.4131e-01,\n",
              "         -1.3601e-01, -5.7288e-02,  3.1526e-01, -4.4419e-01,  3.5809e-01,\n",
              "          1.1528e-01, -4.5917e-02, -3.9191e-01,  6.6410e-02,  1.0397e+00,\n",
              "         -2.7306e-01, -3.4348e-01, -3.6029e-01, -8.7926e-01, -4.5825e-01,\n",
              "         -7.2648e-02, -1.9185e-01, -1.6653e-01,  1.6398e-02, -1.1612e-01,\n",
              "         -2.6545e-02,  8.1494e-02,  3.6734e-02, -2.6728e-01,  3.3554e-01,\n",
              "         -7.3512e-01, -1.7825e-01,  3.8584e-01, -1.5204e-01,  4.7883e-01,\n",
              "         -2.5267e-01,  6.0299e-02,  3.7484e-01, -1.2677e-02,  1.4617e-01,\n",
              "         -8.0144e-01,  1.6583e-01, -1.9185e-01,  2.0854e-01, -1.3679e-01,\n",
              "          3.1419e-01,  3.8737e-02, -3.4178e-01, -3.7189e-01, -1.6390e-01,\n",
              "          3.6404e-01,  2.2611e-01, -1.3281e-01,  2.6943e-02,  9.0606e-02,\n",
              "          2.9580e-01, -1.4908e-01,  4.5251e-01, -8.9263e-01,  4.8182e-01,\n",
              "         -3.2670e-01, -2.4661e-01,  2.1512e-01, -1.0935e-02, -3.0106e-02,\n",
              "          1.0483e-01, -5.7100e-01,  4.1314e-01, -3.3027e-01, -5.6503e-01,\n",
              "         -3.4473e-01,  2.9056e-01, -2.0865e-01,  1.4870e-01,  3.1868e-01,\n",
              "         -1.3266e-01, -6.6633e-02, -2.3379e-01, -3.5838e-01,  5.3484e-01,\n",
              "         -1.4665e-01, -2.7439e-01, -3.0038e-01,  1.2062e-01,  8.2562e-01,\n",
              "         -2.0401e-01, -2.9844e-01,  2.5115e-01, -3.1574e-01,  5.1301e-02,\n",
              "         -2.2876e-01, -4.4303e-01,  3.4941e-01,  2.3056e-01, -3.6862e-01,\n",
              "          2.3794e-01, -1.3648e-02,  4.8386e-02,  4.1427e-01, -1.5534e-01,\n",
              "          4.5139e-02, -2.4677e-01,  3.9823e-02, -1.0818e-01, -3.1626e-01,\n",
              "          4.2048e-01,  1.6208e-01, -1.7739e-01,  2.2645e-01, -1.7650e-01,\n",
              "         -2.8697e-01, -2.4666e-01,  9.7591e-02,  7.3424e-01,  6.2500e-02,\n",
              "          2.3858e-01,  8.8939e-02,  3.9074e-01,  4.0598e-01, -5.4539e-01,\n",
              "          2.6446e-01,  6.3261e-01,  5.7665e-01,  8.2004e-02,  1.0750e-01,\n",
              "          1.7476e-01,  4.7726e-01, -1.5282e-01, -7.5356e-01, -4.3300e-02,\n",
              "          3.8053e-01,  1.0911e-01,  2.2391e-01,  9.7405e-02,  5.1947e-01,\n",
              "          2.6882e-01, -3.7281e-01, -2.4895e-01,  2.5382e-01,  1.8784e-01,\n",
              "         -8.4734e-02, -9.8601e-02, -2.9292e-01,  4.2650e-01, -4.7706e-01,\n",
              "         -8.8063e-02,  3.1670e-01,  9.5398e-02,  2.1448e-01,  1.4509e-01,\n",
              "          8.2499e-01,  3.1320e-01,  7.4143e-03,  3.4001e-01,  2.3883e-01,\n",
              "          1.5129e-01, -3.2210e-01,  4.4833e-01,  6.8964e-02, -3.0823e-01,\n",
              "         -2.7945e-01,  4.0955e-02,  6.1944e-01,  2.0743e-01, -1.8022e-01,\n",
              "          4.1765e-01,  1.8290e-01,  5.8678e-01,  4.7387e-01, -6.2012e-01,\n",
              "         -1.4597e+00,  5.7517e-01, -1.5919e-01, -5.2890e-01,  9.3994e-02,\n",
              "         -1.1302e-02,  5.8768e-01, -8.3119e-01, -1.7967e-02,  2.0689e-01,\n",
              "         -4.1143e-01, -4.6447e-01, -5.6815e-01,  9.9504e-02,  4.9115e-01,\n",
              "         -4.5264e-01, -1.9578e-01, -2.1320e-01,  1.4708e-02,  3.0580e-01,\n",
              "          3.8193e-01,  5.2978e-03,  1.6492e-01, -1.3108e-01, -3.2227e-01,\n",
              "          3.6221e-01, -1.5985e-01,  1.4957e-01, -2.7019e-02,  6.9635e-02,\n",
              "         -7.1064e-01,  1.0276e+00,  3.4098e-02,  3.3096e-01,  4.0301e-01,\n",
              "          1.2501e-01, -8.9248e-02, -6.6660e-01, -5.2925e-01,  2.2834e-01,\n",
              "         -1.8994e-01, -4.3457e-02,  1.0091e-01,  5.1370e-01, -1.6413e-01,\n",
              "          5.2326e-01,  2.9418e-01,  6.4750e-01,  5.4908e-01, -1.3051e-01,\n",
              "         -7.1170e-02, -1.1407e-01,  6.1932e-01,  1.7366e-01, -3.0641e-01,\n",
              "          1.6860e-01, -2.3922e-01, -2.6302e-01, -1.5504e-01, -1.8552e-01,\n",
              "          2.3520e-01,  2.1483e-01,  4.7817e-01, -1.9192e-01, -4.2576e-01,\n",
              "         -1.4700e-01, -2.7713e-01,  5.1202e-03,  4.4816e-01, -3.3879e-01,\n",
              "          1.2929e-02, -7.6617e-01, -3.5408e-02, -6.0762e-01, -1.6107e-01,\n",
              "         -3.0257e-01, -4.7019e-01,  1.8368e-01, -2.9436e-01,  2.8572e-01,\n",
              "          1.6400e-01,  6.7671e-01,  3.6276e-01,  2.5171e-01, -9.6271e-01,\n",
              "         -5.3058e-01,  1.3809e-01,  3.8859e-01,  3.6826e-01, -2.3118e-01,\n",
              "         -2.6102e-01, -6.1873e-01, -2.7211e-01, -1.6115e-01, -3.9596e-01,\n",
              "         -1.8373e-01, -4.5096e-02,  2.2638e-01,  2.8170e-01, -2.7957e-02,\n",
              "          4.1003e-01,  3.3345e-01, -2.1358e-01,  3.7501e-01,  9.2631e-02,\n",
              "         -4.3390e-01, -9.8823e-02, -6.5839e-02, -3.9772e-01, -5.5871e-01,\n",
              "         -4.3957e-01, -1.0710e-01, -1.5772e-01,  2.6994e-01,  8.3882e-01,\n",
              "          6.5098e-01,  7.1384e-01,  2.4414e-01, -3.0783e-01, -5.5415e-01,\n",
              "          3.1073e-01, -3.1396e-01, -1.1309e-01,  6.3602e-02, -1.0269e+00,\n",
              "          1.9060e-01, -3.1582e-01, -2.6306e-01, -2.9749e+00, -3.3431e-01,\n",
              "          1.0173e-02, -2.5752e-01, -4.2609e-02, -4.1919e-01, -2.2649e-01,\n",
              "         -9.7507e-02, -7.3359e-02, -2.4872e-01, -4.1860e-02, -4.9448e-01,\n",
              "         -3.3618e-01,  2.0912e-01, -5.0263e-02,  4.6850e-01,  2.1093e-01,\n",
              "         -1.6994e-01, -6.0672e-01,  4.5949e-01, -5.9999e-01, -3.9727e-01,\n",
              "          1.5222e-01, -2.3888e-01,  4.0563e-01,  5.7405e-01, -6.9637e-02,\n",
              "          3.4899e-01, -2.3067e-01, -1.9107e-01,  6.2694e-02, -3.4569e-01,\n",
              "          1.1648e-01,  2.1452e-01, -1.3706e-01, -3.8290e-03,  2.7626e-02,\n",
              "         -7.2626e-02,  2.8941e-01, -1.8771e-01, -6.2656e-03,  4.1827e-01,\n",
              "         -8.9574e-02, -3.5665e-01,  7.7230e-01, -9.2030e-02, -9.1006e-02,\n",
              "         -2.9414e-01,  2.3678e-01,  6.0840e-01, -3.3280e-01, -2.8806e-01,\n",
              "          2.4173e-01, -3.2944e-01,  2.7718e-01, -1.8789e-01,  3.0042e-01,\n",
              "          7.6682e-01, -3.2561e-01,  2.8470e-02,  3.1642e-01, -2.7929e-01,\n",
              "          1.9955e-02, -2.7856e-01, -1.7239e-01, -4.3394e-01, -2.0511e-01,\n",
              "         -1.1585e-01, -6.7384e-02,  2.7863e-01, -3.4392e-01,  1.0742e-01,\n",
              "         -7.5853e-01, -9.9230e-01, -3.1330e-01,  7.0980e-02,  6.9513e-02,\n",
              "         -3.6987e-01,  3.0454e-01, -4.5633e-01, -5.1815e-01, -7.1336e-01,\n",
              "         -4.3053e-01, -4.1809e-02, -2.6509e-01,  8.2264e-02,  2.1458e-01,\n",
              "         -5.8743e-01, -1.0314e-01, -1.1997e-01, -3.9977e-02, -1.8109e-01,\n",
              "          1.4087e-01,  2.8293e-01, -2.2836e-01, -1.2521e-01,  9.8413e-01,\n",
              "         -1.0150e+00,  2.8774e-01, -1.7645e-01,  4.7313e-01, -1.1058e-01,\n",
              "          4.5021e-01, -8.1366e-02, -1.1660e-01,  2.7565e-01, -8.8196e-01,\n",
              "          1.7815e-01, -6.6117e-02,  6.6987e-02, -2.2484e-01, -7.9919e-02,\n",
              "         -1.7362e-01, -4.6974e-02, -4.1044e-01,  1.3780e-01, -1.0499e-01,\n",
              "         -2.9941e-02,  9.7867e-02,  1.9548e-02,  6.8294e-02,  7.6727e-01,\n",
              "         -1.9313e-01, -4.0913e-01, -8.4028e-01, -6.6173e-02, -1.2540e-03,\n",
              "          9.8607e-02, -1.3395e-01, -2.2525e-01, -7.2533e-03, -4.5362e-02,\n",
              "          1.0288e-01,  4.3496e-02,  3.0322e-01, -3.3016e-01,  2.8684e-01,\n",
              "          4.7675e-01,  2.8774e-01,  6.5617e-02,  9.6711e-03,  2.8728e-01,\n",
              "         -2.2712e-01, -3.2963e-02, -1.2734e-01,  4.7433e-01, -5.7941e-01,\n",
              "         -2.7923e-01,  2.5520e-01,  2.0545e-01, -2.1420e-01, -6.4961e-01,\n",
              "         -3.5971e-02, -2.8255e-01, -1.4338e-01, -3.5010e-01,  7.4796e-02,\n",
              "         -2.4205e-01,  4.2188e-02, -3.2069e-01, -1.2466e-01,  4.3227e-01,\n",
              "          2.4339e-01, -6.6844e-03, -9.1211e-02,  2.6720e-01,  4.2908e-01,\n",
              "         -9.9657e-02, -5.1150e-01,  2.2169e-01, -3.7383e-01, -2.3146e-02,\n",
              "          4.7583e-01,  1.4287e-01,  2.9238e-01,  3.4425e-01,  2.7371e-01,\n",
              "         -1.5839e-01,  4.6852e-01,  8.4635e-01,  1.4909e-01,  4.2659e-02,\n",
              "         -1.2940e-01,  1.6515e-01,  1.7157e-01,  1.8694e-01, -9.9048e-02,\n",
              "          2.4347e-01,  4.9203e-01,  1.2859e-01, -6.0606e-01,  2.3746e-01,\n",
              "         -6.8974e-01, -5.7514e-01, -3.7988e-01, -4.0045e-01,  1.1071e-01,\n",
              "         -3.2810e-01,  2.8477e-01,  1.8381e-01,  2.3517e-01,  1.2467e-02,\n",
              "         -2.5698e-01, -2.9850e-02, -1.2951e-01,  1.0599e-01,  3.6968e-01,\n",
              "          5.7720e-02, -7.9325e-02,  4.0200e-02,  1.5334e-01, -5.0979e-01,\n",
              "         -3.1893e-01, -6.9325e-01,  5.1600e-02,  6.7594e-02,  5.0684e-01,\n",
              "         -1.0318e-02,  2.1530e-01, -5.0479e-02, -7.2965e-01,  2.8908e-01,\n",
              "          1.1862e-01,  4.6932e-01, -1.8487e-01, -7.6971e-02, -2.8497e-01,\n",
              "          5.3828e-02, -6.4203e-01,  2.6370e-01, -9.7980e-02, -4.3724e-01,\n",
              "         -1.0019e-01,  5.2998e-02,  3.2830e-01, -3.6956e-01, -5.8909e-01,\n",
              "         -1.9838e-01,  2.0628e-02, -1.5176e-01, -1.5115e-01, -6.0399e-02,\n",
              "          2.1205e-01, -5.2014e-01, -1.3725e-01, -2.2596e-01, -2.1234e-01,\n",
              "          6.8273e-01, -1.7596e-01,  7.1324e-01,  1.9287e-01,  4.1970e-01,\n",
              "         -2.3043e-01,  4.4277e-02,  3.7086e-01, -6.6820e-01, -4.4645e-01,\n",
              "          1.3651e-01, -3.6782e-01,  4.1699e-01,  4.5896e-01, -8.8128e-02,\n",
              "          6.3231e-01,  8.3554e-01,  5.6699e-01,  4.4093e-01,  4.2623e-01,\n",
              "          2.0220e-01,  2.4753e-01, -2.5417e-01, -2.2189e-02, -1.2567e-01,\n",
              "          1.4982e-01,  6.5211e-02, -3.3936e-01, -4.8388e-01,  2.0047e-01,\n",
              "         -4.4245e-01,  2.7093e-01, -9.1505e-02,  2.0469e-01,  3.2409e-01,\n",
              "         -5.2579e-01, -1.5174e-01,  6.7587e-01,  1.7079e-03, -1.4935e-01,\n",
              "          1.2317e-01,  1.2046e-02,  1.6264e-01, -3.7710e-01,  4.5307e-01,\n",
              "         -5.4895e-01,  9.3193e-02, -3.6410e-02, -2.0648e-01,  4.4385e-01,\n",
              "          3.1196e-01, -1.4025e-01,  2.5491e-01, -1.4942e-01,  4.1364e-02,\n",
              "          2.8245e-01,  3.7490e-01, -4.0352e-01,  4.8721e-01,  8.0443e-02,\n",
              "         -6.8604e-01, -1.0831e-01,  5.2898e-01, -4.2598e-01, -4.6538e-01,\n",
              "          5.2084e-01,  4.7965e-01, -3.4865e-01, -3.2226e-01,  1.7274e-02,\n",
              "         -2.3437e-01, -3.3535e-01,  1.6717e-01, -1.3304e-01, -2.8385e-01,\n",
              "          1.6277e-01,  3.9301e-01, -2.7041e-01,  2.5774e-01, -2.5757e-01,\n",
              "          5.7894e-02, -2.0919e-01,  2.5810e-01, -2.9217e-02,  3.2678e-01,\n",
              "         -2.3304e-01,  7.1612e-01, -3.2336e-01, -1.6730e-01,  3.4856e-01,\n",
              "          2.4259e-01, -2.6791e-01, -6.4573e-02,  1.5180e-01,  6.3305e-01,\n",
              "          4.4476e-01,  3.7729e-02, -2.9866e-01,  2.8765e-02, -2.3354e-01,\n",
              "          1.3809e-01,  6.2664e-02,  3.9037e-01,  6.3646e-01,  3.5214e-01,\n",
              "          1.8461e-02,  4.5491e-02, -2.1824e-01,  1.3447e-01,  2.5021e-01,\n",
              "          3.1103e-01, -2.2834e-01, -4.7470e-01,  2.1737e-01,  2.9791e-02,\n",
              "         -4.9939e-02, -3.9677e-01, -6.0188e-02,  2.3103e-01,  6.0124e-01,\n",
              "         -1.9425e-01,  7.7460e-02,  2.1379e-01, -2.9106e-01,  4.0082e-01,\n",
              "         -2.3767e-01, -2.6172e-02, -4.1462e-01,  2.6314e-01,  3.6319e-01,\n",
              "          2.3109e-01, -7.2763e-01, -1.9404e-01,  2.8377e-01,  1.3349e-01,\n",
              "         -3.3467e-01, -1.5611e-01, -2.4956e-01, -6.6644e-01, -1.4352e-02,\n",
              "         -8.3380e-02, -3.5354e-03, -3.3981e-01,  1.1120e-01, -4.9856e-01,\n",
              "         -8.5001e-03, -3.5178e-01,  2.7221e-01,  6.1719e-02,  1.8435e-01,\n",
              "          7.6789e-01,  6.3598e-01,  1.6589e-01, -4.2891e-03, -5.6799e-01,\n",
              "          9.7067e-02,  4.3768e-01,  8.6022e-02,  3.3182e-01,  2.4003e-02,\n",
              "         -6.0033e-02,  1.5392e-01, -8.5480e-01,  3.8756e-01,  3.0666e-01,\n",
              "         -9.9012e-01, -3.9584e-01, -3.1481e-02,  2.5212e-01,  1.6077e-01,\n",
              "          2.9016e-02,  8.9326e-02,  5.0733e-01, -4.8373e-01, -1.2486e-01,\n",
              "         -7.7323e-02,  8.2512e-01, -1.7870e-01, -1.8396e-01, -9.1131e-02,\n",
              "         -9.0459e-03, -1.2584e-01, -6.0755e-01,  3.5140e-01,  2.0463e-01,\n",
              "          4.4885e-01,  1.0375e-01,  2.6420e-01, -2.8530e-01, -1.0806e-01,\n",
              "          1.4028e-01,  1.0249e-01, -7.5865e-02, -2.8984e-01,  4.0776e-01,\n",
              "         -1.6296e-01,  3.0752e-01, -1.4243e+00,  2.0166e-01,  2.3242e-01,\n",
              "         -2.8167e-01, -5.6225e-01, -5.9323e-01,  4.4095e-01,  9.7103e-02,\n",
              "         -2.8328e-01, -1.4371e-01,  2.2146e-01,  1.3659e-01,  3.6247e-01,\n",
              "         -6.2788e-01,  1.8029e-01,  1.7209e-01]])"
            ]
          },
          "execution_count": 239,
          "metadata": {},
          "output_type": "execute_result"
        }
      ],
      "source": [
        "\"\"\"sentence_embedding = torch.mean(last_hidden_states, dim=1)\n",
        "sentence_embedding"
      ]
    }
  ],
  "metadata": {
    "colab": {
      "provenance": []
    },
    "kernelspec": {
      "display_name": "base",
      "language": "python",
      "name": "python3"
    },
    "language_info": {
      "codemirror_mode": {
        "name": "ipython",
        "version": 3
      },
      "file_extension": ".py",
      "mimetype": "text/x-python",
      "name": "python",
      "nbconvert_exporter": "python",
      "pygments_lexer": "ipython3",
      "version": "3.9.16"
    },
    "orig_nbformat": 4
  },
  "nbformat": 4,
  "nbformat_minor": 0
}
